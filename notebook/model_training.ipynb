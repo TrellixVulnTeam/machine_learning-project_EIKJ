{
 "cells": [
  {
   "cell_type": "code",
   "execution_count": 1,
   "metadata": {},
   "outputs": [],
   "source": [
    "from housing.entity.model_factory import ModelFactory,get_sample_model_config_yaml_file\n"
   ]
  },
  {
   "cell_type": "code",
   "execution_count": 2,
   "metadata": {},
   "outputs": [
    {
     "data": {
      "text/plain": [
       "'c:\\\\Users\\\\aryan\\\\machine_learning-project\\\\notebook'"
      ]
     },
     "execution_count": 2,
     "metadata": {},
     "output_type": "execute_result"
    }
   ],
   "source": [
    "os.getcwd()\n"
   ]
  },
  {
   "cell_type": "code",
   "execution_count": 3,
   "metadata": {},
   "outputs": [
    {
     "data": {
      "text/plain": [
       "'config\\\\model.yaml'"
      ]
     },
     "execution_count": 3,
     "metadata": {},
     "output_type": "execute_result"
    }
   ],
   "source": [
    "get_sample_model_config_yaml_file(export_dir=\"config\")\n"
   ]
  },
  {
   "cell_type": "code",
   "execution_count": 4,
   "metadata": {},
   "outputs": [],
   "source": [
    "from sklearn.linear_model import LinearRegression\n"
   ]
  },
  {
   "cell_type": "code",
   "execution_count": 5,
   "metadata": {},
   "outputs": [
    {
     "data": {
      "text/plain": [
       "LinearRegression()"
      ]
     },
     "execution_count": 5,
     "metadata": {},
     "output_type": "execute_result"
    }
   ],
   "source": [
    "LinearRegression()\n"
   ]
  },
  {
   "cell_type": "code",
   "execution_count": 13,
   "metadata": {},
   "outputs": [],
   "source": [
    "from housing.entity import model_factory\n"
   ]
  },
  {
   "cell_type": "code",
   "execution_count": 9,
   "metadata": {},
   "outputs": [],
   "source": [
    "model_config_file=r\"C:\\Users\\aryan\\machine_learning-project\\config\\model.yaml\""
   ]
  },
  {
   "cell_type": "code",
   "execution_count": 16,
   "metadata": {},
   "outputs": [],
   "source": [
    "from neuro_mf import ModelFactory\n"
   ]
  },
  {
   "cell_type": "code",
   "execution_count": 17,
   "metadata": {},
   "outputs": [],
   "source": [
    "model_factory = ModelFactory(model_config_path=model_config_file)\n"
   ]
  },
  {
   "cell_type": "code",
   "execution_count": 20,
   "metadata": {},
   "outputs": [],
   "source": [
    "model_list = model_factory.get_initialized_model_list()\n"
   ]
  },
  {
   "cell_type": "code",
   "execution_count": 19,
   "metadata": {},
   "outputs": [
    {
     "data": {
      "text/plain": [
       "2"
      ]
     },
     "execution_count": 19,
     "metadata": {},
     "output_type": "execute_result"
    }
   ],
   "source": [
    "len(model_list)\n"
   ]
  },
  {
   "cell_type": "code",
   "execution_count": 21,
   "metadata": {},
   "outputs": [
    {
     "data": {
      "text/plain": [
       "InitializedModelDetail(model_serial_number='module_1', model=RandomForestRegressor(min_samples_leaf=2), param_grid_search={'min_samples_leaf': [4, 6, 12], 'n_estimators': [100]}, model_name='sklearn.ensemble.RandomForestRegressor')"
      ]
     },
     "execution_count": 21,
     "metadata": {},
     "output_type": "execute_result"
    }
   ],
   "source": [
    "model_list[1]\n"
   ]
  },
  {
   "cell_type": "code",
   "execution_count": 22,
   "metadata": {},
   "outputs": [],
   "source": [
    "from housing.util.util import load_numpy_array_data\n"
   ]
  },
  {
   "cell_type": "code",
   "execution_count": 23,
   "metadata": {},
   "outputs": [],
   "source": [
    "data_file_path=r\"C:\\Users\\aryan\\machine_learning-project\\housing\\artifact\\data_transformation\\2022-08-25-22-29-23\\transformed_data\\train\\housing.npz\""
   ]
  },
  {
   "cell_type": "code",
   "execution_count": 24,
   "metadata": {},
   "outputs": [],
   "source": [
    "data = load_numpy_array_data(data_file_path)\n"
   ]
  },
  {
   "cell_type": "code",
   "execution_count": 25,
   "metadata": {},
   "outputs": [],
   "source": [
    "x,y = data[:,:-1],data[:,-1]\n"
   ]
  },
  {
   "cell_type": "code",
   "execution_count": 26,
   "metadata": {},
   "outputs": [],
   "source": [
    "model_factory.grid_searched_best_model_list\n"
   ]
  },
  {
   "cell_type": "code",
   "execution_count": 27,
   "metadata": {},
   "outputs": [
    {
     "name": "stdout",
     "output_type": "stream",
     "text": [
      "Fitting 5 folds for each of 1 candidates, totalling 5 fits\n",
      "[CV] END .................................fit_intercept=True; total time=   0.0s\n",
      "[CV] END .................................fit_intercept=True; total time=   0.0s\n",
      "[CV] END .................................fit_intercept=True; total time=   0.0s\n",
      "[CV] END .................................fit_intercept=True; total time=   0.0s\n",
      "[CV] END .................................fit_intercept=True; total time=   0.0s\n",
      "Fitting 5 folds for each of 3 candidates, totalling 15 fits\n",
      "[CV] END ...............min_samples_leaf=4, n_estimators=100; total time=   7.8s\n",
      "[CV] END ...............min_samples_leaf=4, n_estimators=100; total time=   7.7s\n",
      "[CV] END ...............min_samples_leaf=4, n_estimators=100; total time=   7.5s\n",
      "[CV] END ...............min_samples_leaf=4, n_estimators=100; total time=   7.6s\n",
      "[CV] END ...............min_samples_leaf=4, n_estimators=100; total time=   7.6s\n",
      "[CV] END ...............min_samples_leaf=6, n_estimators=100; total time=   7.1s\n",
      "[CV] END ...............min_samples_leaf=6, n_estimators=100; total time=   7.1s\n",
      "[CV] END ...............min_samples_leaf=6, n_estimators=100; total time=   7.1s\n",
      "[CV] END ...............min_samples_leaf=6, n_estimators=100; total time=   7.1s\n",
      "[CV] END ...............min_samples_leaf=6, n_estimators=100; total time=   7.1s\n",
      "[CV] END ..............min_samples_leaf=12, n_estimators=100; total time=   6.4s\n",
      "[CV] END ..............min_samples_leaf=12, n_estimators=100; total time=   6.3s\n",
      "[CV] END ..............min_samples_leaf=12, n_estimators=100; total time=   6.4s\n",
      "[CV] END ..............min_samples_leaf=12, n_estimators=100; total time=   6.4s\n",
      "[CV] END ..............min_samples_leaf=12, n_estimators=100; total time=   6.4s\n"
     ]
    }
   ],
   "source": [
    "best_model = model_factory.get_best_model(x,y,0.79)\n"
   ]
  },
  {
   "cell_type": "code",
   "execution_count": 28,
   "metadata": {},
   "outputs": [
    {
     "data": {
      "text/plain": [
       "RandomForestRegressor(min_samples_leaf=4)"
      ]
     },
     "execution_count": 28,
     "metadata": {},
     "output_type": "execute_result"
    }
   ],
   "source": [
    "best_model.best_model\n"
   ]
  },
  {
   "cell_type": "code",
   "execution_count": 29,
   "metadata": {},
   "outputs": [
    {
     "data": {
      "text/plain": [
       "GridSearchedBestModel(model_serial_number='module_0', model=LinearRegression(), best_model=LinearRegression(), best_parameters={'fit_intercept': True}, best_score=-10396644278415.48)"
      ]
     },
     "execution_count": 29,
     "metadata": {},
     "output_type": "execute_result"
    }
   ],
   "source": [
    "model_factory.grid_searched_best_model_list[0]\n"
   ]
  },
  {
   "cell_type": "code",
   "execution_count": 30,
   "metadata": {},
   "outputs": [
    {
     "data": {
      "text/plain": [
       "[InitializedModelDetail(model_serial_number='module_0', model=LinearRegression(), param_grid_search={'fit_intercept': [True]}, model_name='sklearn.linear_model.LinearRegression'),\n",
       " InitializedModelDetail(model_serial_number='module_1', model=RandomForestRegressor(min_samples_leaf=2), param_grid_search={'min_samples_leaf': [4, 6, 12], 'n_estimators': [100]}, model_name='sklearn.ensemble.RandomForestRegressor')]"
      ]
     },
     "execution_count": 30,
     "metadata": {},
     "output_type": "execute_result"
    }
   ],
   "source": [
    "model_factory.initialized_model_list\n"
   ]
  }
 ],
 "metadata": {
  "kernelspec": {
   "display_name": "Python 3.7.0 ('MLproject')",
   "language": "python",
   "name": "python3"
  },
  "language_info": {
   "codemirror_mode": {
    "name": "ipython",
    "version": 3
   },
   "file_extension": ".py",
   "mimetype": "text/x-python",
   "name": "python",
   "nbconvert_exporter": "python",
   "pygments_lexer": "ipython3",
   "version": "3.7.0"
  },
  "orig_nbformat": 4,
  "vscode": {
   "interpreter": {
    "hash": "b653870530714b03f3343b103fdac1984833c9fb33951c4a22d7612fbfb07d68"
   }
  }
 },
 "nbformat": 4,
 "nbformat_minor": 2
}
