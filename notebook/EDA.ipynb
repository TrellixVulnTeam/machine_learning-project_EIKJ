{
 "cells": [
  {
   "cell_type": "code",
   "execution_count": 1,
   "metadata": {},
   "outputs": [],
   "source": [
    "import os\n",
    "\n",
    "os.chdir(os.pardir)"
   ]
  },
  {
   "cell_type": "code",
   "execution_count": 2,
   "metadata": {},
   "outputs": [],
   "source": [
    "from housing.pipeline.pipeline import Pipeline\n"
   ]
  },
  {
   "cell_type": "code",
   "execution_count": 3,
   "metadata": {},
   "outputs": [],
   "source": [
    "p=Pipeline()\n"
   ]
  },
  {
   "cell_type": "code",
   "execution_count": 4,
   "metadata": {},
   "outputs": [
    {
     "data": {
      "text/plain": [
       "<Pipeline(pipeline, initial)>"
      ]
     },
     "execution_count": 4,
     "metadata": {},
     "output_type": "execute_result"
    }
   ],
   "source": [
    "p\n"
   ]
  },
  {
   "cell_type": "code",
   "execution_count": 5,
   "metadata": {},
   "outputs": [
    {
     "name": "stdout",
     "output_type": "stream",
     "text": [
      "{'fit_intercept': True}\n",
      "{'min_samples_leaf': 2}\n",
      "{'cv': 5, 'verbose': 2}\n",
      "Fitting 5 folds for each of 1 candidates, totalling 5 fits\n",
      "[CV] END .................................fit_intercept=True; total time=   0.0s\n",
      "[CV] END .................................fit_intercept=True; total time=   0.0s\n",
      "[CV] END .................................fit_intercept=True; total time=   0.0s\n",
      "[CV] END .................................fit_intercept=True; total time=   0.0s\n",
      "[CV] END .................................fit_intercept=True; total time=   0.0s\n",
      "{'cv': 5, 'verbose': 2}\n",
      "Fitting 5 folds for each of 3 candidates, totalling 15 fits\n",
      "[CV] END ...............min_samples_leaf=4, n_estimators=100; total time=  17.8s\n",
      "[CV] END ...............min_samples_leaf=4, n_estimators=100; total time=  13.0s\n"
     ]
    }
   ],
   "source": [
    "p.start()\n"
   ]
  },
  {
   "cell_type": "code",
   "execution_count": 4,
   "metadata": {},
   "outputs": [],
   "source": [
    "f=r\"C:\\Users\\aryan\\machine_learning-project\\config\\model.yaml\"\n"
   ]
  },
  {
   "cell_type": "code",
   "execution_count": 1,
   "metadata": {},
   "outputs": [],
   "source": [
    "from housing.util.util import read_yaml_file\n"
   ]
  },
  {
   "cell_type": "code",
   "execution_count": 2,
   "metadata": {},
   "outputs": [],
   "source": [
    "import json\n"
   ]
  },
  {
   "cell_type": "code",
   "execution_count": 5,
   "metadata": {},
   "outputs": [],
   "source": [
    "json.dump(read_yaml_file(f),open(\"sample.json\",\"w\"),indent=4)\n"
   ]
  },
  {
   "cell_type": "code",
   "execution_count": 6,
   "metadata": {},
   "outputs": [],
   "source": [
    "data=\"\"\"{\n",
    "    \"grid_search\": {\n",
    "        \"class\": \"GridSearchCV\",\n",
    "        \"module\": \"sklearn.model_selection\",\n",
    "        \"params\": {\n",
    "            \"cv\": 4,\n",
    "            \"verbose\": 2\n",
    "        }\n",
    "    },\n",
    "    \"model_selection\": {\n",
    "        \"module_0\": {\n",
    "            \"class\": \"LinearRegression\",\n",
    "            \"module\": \"sklearn.linear_model\",\n",
    "            \"params\": {\n",
    "                \"fit_intercept\": true\n",
    "            },\n",
    "            \"search_param_grid\": {\n",
    "                \"fit_intercept\": [\n",
    "                    true\n",
    "                ]\n",
    "            }\n",
    "        },\n",
    "        \"module_1\": {\n",
    "            \"class\": \"RandomForestRegressor\",\n",
    "            \"module\": \"sklearn.ensemble\",\n",
    "            \"params\": {\n",
    "                \"min_samples_leaf\": 2\n",
    "            },\n",
    "            \"search_param_grid\": {\n",
    "                \"min_samples_leaf\": [\n",
    "                    2\n",
    "                ],\n",
    "                \"n_estimators\": [\n",
    "                    10\n",
    "                ]\n",
    "            }\n",
    "        }\n",
    "    }\n",
    "}\"\"\""
   ]
  },
  {
   "cell_type": "code",
   "execution_count": 7,
   "metadata": {},
   "outputs": [],
   "source": [
    "a=data.replace(\"'\",'\"').replace(\"\\n\",\"\")\n"
   ]
  },
  {
   "cell_type": "code",
   "execution_count": 8,
   "metadata": {},
   "outputs": [
    {
     "data": {
      "text/plain": [
       "1"
      ]
     },
     "execution_count": 8,
     "metadata": {},
     "output_type": "execute_result"
    }
   ],
   "source": [
    "len(data[245])\n"
   ]
  }
 ],
 "metadata": {
  "kernelspec": {
   "display_name": "Python 3.7.0 ('MLproject')",
   "language": "python",
   "name": "python3"
  },
  "language_info": {
   "codemirror_mode": {
    "name": "ipython",
    "version": 3
   },
   "file_extension": ".py",
   "mimetype": "text/x-python",
   "name": "python",
   "nbconvert_exporter": "python",
   "pygments_lexer": "ipython3",
   "version": "3.7.0"
  },
  "orig_nbformat": 4,
  "vscode": {
   "interpreter": {
    "hash": "b653870530714b03f3343b103fdac1984833c9fb33951c4a22d7612fbfb07d68"
   }
  }
 },
 "nbformat": 4,
 "nbformat_minor": 2
}
